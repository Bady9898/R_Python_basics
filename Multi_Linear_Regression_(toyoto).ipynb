{
  "cells": [
    {
      "cell_type": "markdown",
      "metadata": {
        "id": "view-in-github",
        "colab_type": "text"
      },
      "source": [
        "<a href=\"https://colab.research.google.com/github/Bady9898/R_Python_libraries/blob/main/Multi_Linear_Regression_(toyoto).ipynb\" target=\"_parent\"><img src=\"https://colab.research.google.com/assets/colab-badge.svg\" alt=\"Open In Colab\"/></a>"
      ]
    },
    {
      "cell_type": "code",
      "execution_count": null,
      "metadata": {
        "id": "RirFU-_cDpJs"
      },
      "outputs": [],
      "source": [
        "import pandas as pd\n",
        "import matplotlib.pyplot as plt\n",
        "import seaborn as sns\n",
        "from statsmodels.graphics.regressionplots import influence_plot\n",
        "import statsmodels.formula.api as smf\n",
        "import numpy as np"
      ]
    },
    {
      "cell_type": "code",
      "execution_count": null,
      "metadata": {
        "id": "sgorSj43DpJx"
      },
      "outputs": [],
      "source": [
        "#Read the data\n",
        "toyoto = pd.read_csv(\"Toyoto_Corrola.csv\")\n",
        "toyoto.head()"
      ]
    },
    {
      "cell_type": "code",
      "execution_count": null,
      "metadata": {
        "id": "u2A2Yr50DpJy"
      },
      "outputs": [],
      "source": [
        "toyoto.info()"
      ]
    },
    {
      "cell_type": "code",
      "execution_count": null,
      "metadata": {
        "id": "ZAuztdbdDpJy"
      },
      "outputs": [],
      "source": [
        "#check for missing values\n",
        "toyoto.isna().sum()"
      ]
    },
    {
      "cell_type": "markdown",
      "metadata": {
        "id": "EWHxdMCODpJz"
      },
      "source": [
        "# Correlation Matrix"
      ]
    },
    {
      "cell_type": "code",
      "execution_count": null,
      "metadata": {
        "id": "da34TpfqDpJ0"
      },
      "outputs": [],
      "source": [
        "toyoto.corr()"
      ]
    },
    {
      "cell_type": "markdown",
      "metadata": {
        "id": "GqmLfjtfDpJ1"
      },
      "source": [
        "# Scatterplot between variables along with histograms"
      ]
    },
    {
      "cell_type": "code",
      "execution_count": null,
      "metadata": {
        "id": "IiThLPoVDpJ2"
      },
      "outputs": [],
      "source": [
        "#Format the plot background and scatter plots for all the variables\n",
        "sns.set_style(style='darkgrid')\n",
        "sns.pairplot(toyoto1)"
      ]
    },
    {
      "cell_type": "markdown",
      "metadata": {
        "id": "LDaORtJzDpJ3"
      },
      "source": [
        "# Preparing a model"
      ]
    },
    {
      "cell_type": "code",
      "source": [
        "toyoto1 = toyoto.drop(['Cylinders'],axis=1)\n",
        "toyoto1"
      ],
      "metadata": {
        "id": "1CIYoRFModDK"
      },
      "execution_count": null,
      "outputs": []
    },
    {
      "cell_type": "code",
      "execution_count": null,
      "metadata": {
        "id": "zwv-aX0lDpJ4"
      },
      "outputs": [],
      "source": [
        "#Build model\n",
        "import statsmodels.formula.api as smf \n",
        "model = smf.ols('Price ~  Age_08_04+KM+HP+Doors+Gears+Weight',data=toyoto1).fit()"
      ]
    },
    {
      "cell_type": "code",
      "execution_count": null,
      "metadata": {
        "id": "5iFeiiFlDpJ4"
      },
      "outputs": [],
      "source": [
        "#Coefficients\n",
        "model.params"
      ]
    },
    {
      "cell_type": "code",
      "execution_count": null,
      "metadata": {
        "id": "usazPE6MDpJ5"
      },
      "outputs": [],
      "source": [
        "#t and p-Values\n",
        "print(model.tvalues, '\\n', model.pvalues)"
      ]
    },
    {
      "cell_type": "code",
      "execution_count": null,
      "metadata": {
        "id": "JTaLvOcJDpJ5"
      },
      "outputs": [],
      "source": [
        "#R squared values\n",
        "(model.rsquared,model.rsquared_adj)"
      ]
    },
    {
      "cell_type": "markdown",
      "metadata": {
        "id": "a2QhU2xsDpJ6"
      },
      "source": [
        "# Simple Linear Regression Models"
      ]
    },
    {
      "cell_type": "code",
      "execution_count": null,
      "metadata": {
        "id": "RwEaHlOoDpJ6"
      },
      "outputs": [],
      "source": [
        "ml_v=smf.ols('Price ~ Age_08_04',data = toyoto1).fit()  \n",
        "#t and p-Values\n",
        "print(ml_v.tvalues, '\\n', ml_v.pvalues)  "
      ]
    },
    {
      "cell_type": "code",
      "execution_count": null,
      "metadata": {
        "scrolled": false,
        "id": "_vCVFywqDpJ6"
      },
      "outputs": [],
      "source": [
        "ml_w=smf.ols('Price ~ KM',data = toyoto1).fit()  \n",
        "print(ml_w.tvalues, '\\n', ml_w.pvalues)  "
      ]
    },
    {
      "cell_type": "code",
      "execution_count": null,
      "metadata": {
        "scrolled": true,
        "id": "regxLMwfDpJ7"
      },
      "outputs": [],
      "source": [
        "ml_wv=smf.ols('Price ~ Age_08_04+KM',data = toyoto1).fit()  \n",
        "print(ml_wv.tvalues, '\\n', ml_wv.pvalues)  "
      ]
    },
    {
      "cell_type": "code",
      "source": [
        ""
      ],
      "metadata": {
        "id": "dLCHxePqhDWo"
      },
      "execution_count": null,
      "outputs": []
    },
    {
      "cell_type": "markdown",
      "metadata": {
        "id": "V5bspNOJDpJ7"
      },
      "source": [
        "# Calculating VIF"
      ]
    },
    {
      "cell_type": "code",
      "execution_count": null,
      "metadata": {
        "id": "cC4f_Pk8DpJ7"
      },
      "outputs": [],
      "source": [
        "rsq_price = smf.ols('Price~KM+Age_08_04+HP+Doors+Gears+Weight',data=toyoto1).fit().rsquared  \n",
        "vif_price = 1/(1-rsq_price) # 16.33\n",
        "\n",
        "rsq_km = smf.ols('KM~Age_08_04+HP+Doors+Gears+Weight+Price',data=toyoto1).fit().rsquared  \n",
        "vif_km = 1/(1-rsq_km) # 564.98\n",
        "\n",
        "rsq_age = smf.ols('Age_08_04~HP+Doors+Gears+Weight+Price+KM',data=toyoto1).fit().rsquared  \n",
        "vif_age = 1/(1-rsq_age) #  564.84\n",
        "\n",
        "rsq_hp = smf.ols('HP~Doors+Gears+Weight+Price+KM+Age_08_04',data=toyoto1).fit().rsquared  \n",
        "vif_hp = 1/(1-rsq_hp) #  16.35\n",
        "\n",
        "rsq_doors = smf.ols('Doors~Gears+Weight+Price+KM+Age_08_04+HP', data=toyoto1).fit().rsquared\n",
        "vif_doors= 1/(1-rsq_doors) \n",
        "\n",
        "rsq_gears = smf.ols('Gears~Weight+Price+KM+Age_08_04+HP+Doors', data=toyoto1).fit().rsquared\n",
        "vif_gears = 1/(1-rsq_gears)\n",
        "\n",
        "rsq_weight = smf.ols('Weight~Price+KM+Age_08_04+HP+Doors+Gears', data=toyoto1).fit().rsquared\n",
        "vif_weight = 1/(1-rsq_weight)\n",
        "# Storing vif values in a data frame\n",
        "d1 = {'Variables':['Price','KM','Age_08_04','HP','Doors','Gears','Weight'],'VIF':[vif_price,vif_km,vif_age,vif_hp,vif_doors,vif_gears,vif_weight]}\n",
        "Vif_frame = pd.DataFrame(d1)  \n",
        "Vif_frame"
      ]
    },
    {
      "cell_type": "markdown",
      "metadata": {
        "id": "KZqcmE-wDpJ8"
      },
      "source": [
        "# Residual Analysis"
      ]
    },
    {
      "cell_type": "markdown",
      "metadata": {
        "id": "Q912-R6rDpJ8"
      },
      "source": [
        "## Test for Normality of Residuals (Q-Q Plot)"
      ]
    },
    {
      "cell_type": "code",
      "execution_count": null,
      "metadata": {
        "id": "D7dwWm0RDpJ8"
      },
      "outputs": [],
      "source": [
        "import statsmodels.api as sm\n",
        "qqplot=sm.qqplot(model.resid,line='q') # line = 45 to draw the diagnoal line\n",
        "plt.title(\"Normal Q-Q plot of residuals\")\n",
        "plt.show()"
      ]
    },
    {
      "cell_type": "code",
      "execution_count": null,
      "metadata": {
        "id": "LZqd12-fDpJ8"
      },
      "outputs": [],
      "source": [
        "list(np.where(model.resid>10))"
      ]
    },
    {
      "cell_type": "markdown",
      "metadata": {
        "id": "vpV0PDV_DpJ9"
      },
      "source": [
        "## Residual Plot for Homoscedasticity"
      ]
    },
    {
      "cell_type": "code",
      "execution_count": null,
      "metadata": {
        "id": "lJwgakN5DpJ9"
      },
      "outputs": [],
      "source": [
        "def get_standardized_values( vals ):\n",
        "    return (vals - vals.mean())/vals.std()"
      ]
    },
    {
      "cell_type": "code",
      "execution_count": null,
      "metadata": {
        "id": "KZog0gMGDpJ9"
      },
      "outputs": [],
      "source": [
        "plt.scatter(get_standardized_values(model.fittedvalues),\n",
        "            get_standardized_values(model.resid))\n",
        "\n",
        "plt.title('Residual Plot')\n",
        "plt.xlabel('Standardized Fitted values')\n",
        "plt.ylabel('Standardized residual values')\n",
        "plt.show()"
      ]
    },
    {
      "cell_type": "markdown",
      "metadata": {
        "id": "5WsxtZJDDpJ9"
      },
      "source": [
        "## Residual Vs Regressors"
      ]
    },
    {
      "cell_type": "code",
      "execution_count": null,
      "metadata": {
        "id": "e4wRYg_9DpJ9"
      },
      "outputs": [],
      "source": [
        "fig = plt.figure(figsize=(15,8))\n",
        "fig = sm.graphics.plot_regress_exog(model, \"KM\", fig=fig)\n",
        "plt.show()"
      ]
    },
    {
      "cell_type": "code",
      "execution_count": null,
      "metadata": {
        "id": "FNK6kPGhDpJ-"
      },
      "outputs": [],
      "source": [
        "fig = plt.figure(figsize=(15,8))\n",
        "fig = sm.graphics.plot_regress_exog(model, \"HP\", fig=fig)\n",
        "plt.show()"
      ]
    },
    {
      "cell_type": "code",
      "execution_count": null,
      "metadata": {
        "id": "QakQhYINDpJ-"
      },
      "outputs": [],
      "source": [
        "fig = plt.figure(figsize=(15,8))\n",
        "fig = sm.graphics.plot_regress_exog(model, \"HP\", fig=fig)\n",
        "plt.show()"
      ]
    },
    {
      "cell_type": "code",
      "execution_count": null,
      "metadata": {
        "id": "qkqpeS0uDpJ-"
      },
      "outputs": [],
      "source": [
        "fig = plt.figure(figsize=(15,8))\n",
        "fig = sm.graphics.plot_regress_exog(model, \"Age_08_04\", fig=fig)\n",
        "plt.show()"
      ]
    },
    {
      "cell_type": "code",
      "source": [
        "fig = plt.figure(figsize=(15,8))\n",
        "fig = sm.graphics.plot_regress_exog(model, \"Doors\", fig=fig)\n",
        "plt.show()"
      ],
      "metadata": {
        "id": "_l8pmrPNJNiU"
      },
      "execution_count": null,
      "outputs": []
    },
    {
      "cell_type": "markdown",
      "metadata": {
        "id": "uQWtKIq7DpJ-"
      },
      "source": [
        "# Model Deletion Diagnostics"
      ]
    },
    {
      "cell_type": "markdown",
      "metadata": {
        "id": "O3PGs3wxDpJ-"
      },
      "source": [
        "## Detecting Influencers/Outliers"
      ]
    },
    {
      "cell_type": "markdown",
      "metadata": {
        "id": "u9Z4_JRwDpJ-"
      },
      "source": [
        "## Cook’s Distance"
      ]
    },
    {
      "cell_type": "code",
      "execution_count": null,
      "metadata": {
        "id": "QJ6XlDurDpJ-"
      },
      "outputs": [],
      "source": [
        "model_influence = model.get_influence()\n",
        "(c, _) = model_influence.cooks_distance"
      ]
    },
    {
      "cell_type": "code",
      "execution_count": null,
      "metadata": {
        "id": "FqeOP0o7DpJ-"
      },
      "outputs": [],
      "source": [
        "#Plot the influencers values using stem plot\n",
        "fig = plt.subplots(figsize=(20, 7))\n",
        "plt.stem(np.arange(len(toyoto1)), np.round(c, 3))\n",
        "plt.xlabel('Row index')\n",
        "plt.ylabel('Cooks Distance')\n",
        "plt.show()"
      ]
    },
    {
      "cell_type": "code",
      "execution_count": null,
      "metadata": {
        "id": "BwQJbwaeDpJ_"
      },
      "outputs": [],
      "source": [
        "#index and value of influencer where c is more than .5\n",
        "(np.argmax(c),np.max(c))"
      ]
    },
    {
      "cell_type": "markdown",
      "metadata": {
        "id": "wRQRDdKWDpJ_"
      },
      "source": [
        "## High Influence points"
      ]
    },
    {
      "cell_type": "code",
      "execution_count": null,
      "metadata": {
        "id": "LYytX8-xDpJ_"
      },
      "outputs": [],
      "source": [
        "from statsmodels.graphics.regressionplots import influence_plot\n",
        "influence_plot(model)\n",
        "plt.show()"
      ]
    },
    {
      "cell_type": "code",
      "execution_count": null,
      "metadata": {
        "id": "PIYYYjZcDpJ_"
      },
      "outputs": [],
      "source": [
        "k = toyoto1.shape[1]\n",
        "n = toyoto1.shape[0]\n",
        "leverage_cutoff = 3*((k + 1)/n)"
      ]
    },
    {
      "cell_type": "code",
      "source": [
        "leverage_cutoff"
      ],
      "metadata": {
        "id": "I-NfzAwrGn_D"
      },
      "execution_count": null,
      "outputs": []
    },
    {
      "cell_type": "markdown",
      "metadata": {
        "id": "tU_ZFCwWDpJ_"
      },
      "source": [
        "#### From the above plot, it is evident that data point 221, 601, 956, 960,991 are the influencers"
      ]
    },
    {
      "cell_type": "code",
      "execution_count": null,
      "metadata": {
        "id": "UnMguK6hDpKA"
      },
      "outputs": [],
      "source": [
        "toyoto1[toyoto1.index.isin([219,597, 952,956,986])]"
      ]
    },
    {
      "cell_type": "code",
      "execution_count": null,
      "metadata": {
        "id": "VRGS2ZfTDpKA"
      },
      "outputs": [],
      "source": [
        "#See the differences in HP and other variable values\n",
        "toyoto1.head()"
      ]
    },
    {
      "cell_type": "markdown",
      "metadata": {
        "id": "0CzoA3pDDpKA"
      },
      "source": [
        "# Improving the model"
      ]
    },
    {
      "cell_type": "code",
      "execution_count": null,
      "metadata": {
        "id": "9pEUPevUDpKA"
      },
      "outputs": [],
      "source": [
        "#Load the data\n",
        "toyoto1_new = pd.read_csv(\"Toyoto_Corrola.csv\")"
      ]
    },
    {
      "cell_type": "code",
      "execution_count": null,
      "metadata": {
        "id": "dBwyY7wrDpKA"
      },
      "outputs": [],
      "source": [
        "#Discard the data points which are influencers and reasign the row number (reset_index())\n",
        "toyoto2 = toyoto1_new.drop(toyoto1_new.index[[219,597,952,956,986]],axis=0).reset_index()\n",
        "#car1=cars_new.drop(cars_new.index[[70,76]],axis=0).reset_index()"
      ]
    },
    {
      "cell_type": "code",
      "execution_count": null,
      "metadata": {
        "id": "S3UCVdV5DpKA"
      },
      "outputs": [],
      "source": [
        "#Drop the original index\n",
        "toyoto2 = toyoto2.drop(['index'], axis=1)\n",
        "#car1=car1.drop(['index'],axis=1)"
      ]
    },
    {
      "cell_type": "code",
      "execution_count": null,
      "metadata": {
        "id": "pxQn55HNDpKA"
      },
      "outputs": [],
      "source": [
        "toyoto2"
      ]
    },
    {
      "cell_type": "markdown",
      "metadata": {
        "id": "RziMWg2hDpKA"
      },
      "source": [
        "# Build Model"
      ]
    },
    {
      "cell_type": "code",
      "execution_count": null,
      "metadata": {
        "id": "ruxMTHd7DpKA"
      },
      "outputs": [],
      "source": [
        "#Exclude variable \"Gears\" and generate R-Squared and AIC values\n",
        "final_ml_V= smf.ols('Price~KM+HP+Age_08_04+Weight+Doors',data = toyoto2).fit()"
      ]
    },
    {
      "cell_type": "code",
      "execution_count": null,
      "metadata": {
        "id": "AGBLpvM0DpKA"
      },
      "outputs": [],
      "source": [
        "(final_ml_V.rsquared,final_ml_V.aic)"
      ]
    },
    {
      "cell_type": "code",
      "execution_count": null,
      "metadata": {
        "id": "RsCPuMTtDpKA"
      },
      "outputs": [],
      "source": [
        "#Exclude variable \"Doors\" and generate R-Squared and AIC values\n",
        "final_ml_W= smf.ols('Price~KM+HP+Age_08_04+Weight+Gears',data = toyoto2).fit()"
      ]
    },
    {
      "cell_type": "code",
      "execution_count": null,
      "metadata": {
        "id": "ahB_ZmTbDpKA"
      },
      "outputs": [],
      "source": [
        "(final_ml_W.rsquared,final_ml_W.aic)"
      ]
    },
    {
      "cell_type": "markdown",
      "metadata": {
        "id": "vACQ9omgDpKB"
      },
      "source": [
        "##### Comparing above R-Square and AIC values, model 'final_ml_W' has high R- square and low AIC value hence include variable 'Doors' so that multi collinearity problem would be resolved."
      ]
    },
    {
      "cell_type": "markdown",
      "metadata": {
        "id": "AzxERfpGDpKB"
      },
      "source": [
        "# Cook’s Distance"
      ]
    },
    {
      "cell_type": "code",
      "execution_count": null,
      "metadata": {
        "id": "CWEGW3sCDpKB"
      },
      "outputs": [],
      "source": [
        "model_influence_V = final_ml_V.get_influence()\n",
        "(c_V, _) = model_influence_V.cooks_distance"
      ]
    },
    {
      "cell_type": "code",
      "execution_count": null,
      "metadata": {
        "id": "rsAXS-R4DpKB"
      },
      "outputs": [],
      "source": [
        "fig= plt.subplots(figsize=(20,7))\n",
        "plt.stem(np.arange(len(toyoto2)),np.round(c_V,3));\n",
        "plt.xlabel('Row index')\n",
        "plt.ylabel('Cooks Distance');"
      ]
    },
    {
      "cell_type": "code",
      "execution_count": null,
      "metadata": {
        "id": "1iTGhxIJDpKB"
      },
      "outputs": [],
      "source": [
        "#index of the data points where c is more than .5\n",
        "(np.argmax(c_V),np.max(c_V))"
      ]
    },
    {
      "cell_type": "code",
      "execution_count": null,
      "metadata": {
        "id": "fC9IBM_oDpKB"
      },
      "outputs": [],
      "source": [
        "#Drop 220 observations\n",
        "toyoto3=toyoto2.drop(toyoto2.index[[220]],axis=0)"
      ]
    },
    {
      "cell_type": "code",
      "execution_count": null,
      "metadata": {
        "id": "ZlJ9J0W2DpKB"
      },
      "outputs": [],
      "source": [
        "toyoto3"
      ]
    },
    {
      "cell_type": "code",
      "execution_count": null,
      "metadata": {
        "id": "6Lcbb0b7DpKB"
      },
      "outputs": [],
      "source": [
        "#Reset the index and re arrange the row values\n",
        "toyoto4=toyoto3.reset_index()"
      ]
    },
    {
      "cell_type": "code",
      "execution_count": null,
      "metadata": {
        "id": "mKD01k-2DpKC"
      },
      "outputs": [],
      "source": [
        "toyoto5=toyoto4.drop(['index'],axis=1)"
      ]
    },
    {
      "cell_type": "code",
      "execution_count": null,
      "metadata": {
        "id": "YbXDuvdqDpKC"
      },
      "outputs": [],
      "source": [
        "toyoto5"
      ]
    },
    {
      "cell_type": "code",
      "execution_count": null,
      "metadata": {
        "id": "W8eqCLw8DpKC"
      },
      "outputs": [],
      "source": [
        "#Build the model on the new data\n",
        "final_ml_V= smf.ols('Price~KM+HP+Age_08_04+Doors+Weight',data = toyoto5).fit()"
      ]
    },
    {
      "cell_type": "code",
      "execution_count": null,
      "metadata": {
        "id": "XwJIniJqDpKC"
      },
      "outputs": [],
      "source": [
        "#Again check for influencers\n",
        "model_influence_V = final_ml_V.get_influence()\n",
        "(c_V, _) = model_influence_V.cooks_distance"
      ]
    },
    {
      "cell_type": "code",
      "execution_count": null,
      "metadata": {
        "id": "_bbhGFCdDpKC"
      },
      "outputs": [],
      "source": [
        "fig= plt.subplots(figsize=(20,7))\n",
        "plt.stem(np.arange(len(toyoto5)),np.round(c_V,3));\n",
        "plt.xlabel('Row index')\n",
        "plt.ylabel('Cooks Distance');"
      ]
    },
    {
      "cell_type": "code",
      "execution_count": null,
      "metadata": {
        "id": "WRgaT9n5DpKC"
      },
      "outputs": [],
      "source": [
        "#index of the data points where c is more than .5\n",
        "(np.argmax(c_V),np.max(c_V))"
      ]
    },
    {
      "cell_type": "markdown",
      "metadata": {
        "id": "41wKJPVwDpKC"
      },
      "source": [
        "#### Since the value is <1 , we can stop the diagnostic process and finalize the model"
      ]
    },
    {
      "cell_type": "code",
      "execution_count": null,
      "metadata": {
        "id": "KX5gQ6oaDpKC"
      },
      "outputs": [],
      "source": [
        "#Check the accuracy of the mode\n",
        "final_ml_V= smf.ols('Price~KM+HP+Age_08_04+Doors+Weight',data = toyoto5).fit()"
      ]
    },
    {
      "cell_type": "code",
      "execution_count": null,
      "metadata": {
        "id": "teOOvnqWDpKC"
      },
      "outputs": [],
      "source": [
        "(final_ml_V.rsquared,final_ml_V.aic)"
      ]
    },
    {
      "cell_type": "markdown",
      "metadata": {
        "id": "QBi3KKn6DpKC"
      },
      "source": [
        "## Predicting for new data"
      ]
    },
    {
      "cell_type": "code",
      "execution_count": null,
      "metadata": {
        "id": "6ifs0G8ADpKC"
      },
      "outputs": [],
      "source": [
        "#New data for prediction\n",
        "new_data=pd.DataFrame({'HP':40,\"VOL\":95,\"SP\":102,\"WT\":35},index=[1])\n",
        "new_data=pd.DataFrame({'Price': 11000,\"KM\":42000,\"HP\":100,\"Age_08_04\":45,\"Doors\":3,\"Weight\":1100}, index=[1])"
      ]
    },
    {
      "cell_type": "code",
      "source": [
        "new_data"
      ],
      "metadata": {
        "id": "FPUNxgX0L120"
      },
      "execution_count": null,
      "outputs": []
    },
    {
      "cell_type": "code",
      "execution_count": null,
      "metadata": {
        "id": "SiwwZu_fDpKC"
      },
      "outputs": [],
      "source": [
        "final_ml_V.predict(new_data)"
      ]
    },
    {
      "cell_type": "markdown",
      "source": [
        "Price(Y)\n",
        "Offer price in Euros\n",
        "Age\n",
        "Age in months as on August 2004\n",
        "Kilometers\n",
        "Accumulated kilometers on odometer\n",
        "HP\n",
        "Horsepower\n",
        "Gears\n",
        "Number of gears\n",
        "CC\n",
        "Cylinder volume in cubic centimeters\n",
        "Doors\n",
        "Number of doors\n",
        "QuartTax\n",
        "Quarterly Road Tax\n",
        "Weight\n",
        "Weight in kilograms\n"
      ],
      "metadata": {
        "id": "ZuUGik5YPv_r"
      }
    },
    {
      "cell_type": "code",
      "source": [
        ""
      ],
      "metadata": {
        "id": "u-Lp1OOcPw1A"
      },
      "execution_count": null,
      "outputs": []
    },
    {
      "cell_type": "markdown",
      "source": [
        "Price(Y)\n",
        "Offer price in Euros\n",
        "Age\n",
        "Age in months as on August 2004\n",
        "Kilometers\n",
        "Accumulated kilometers on odometer\n",
        "HP\n",
        "Horsepower\n",
        "Gears\n",
        "Number of gears\n",
        "CC\n",
        "Cylinder volume in cubic centimeters\n",
        "Doors\n",
        "Number of doors\n",
        "QuartTax\n",
        "Quarterly Road Tax\n",
        "Weight\n",
        "Weight in kilograms\n"
      ],
      "metadata": {
        "id": "YVw8IEBJPygR"
      }
    }
  ],
  "metadata": {
    "kernelspec": {
      "display_name": "Python 3",
      "language": "python",
      "name": "python3"
    },
    "language_info": {
      "codemirror_mode": {
        "name": "ipython",
        "version": 3
      },
      "file_extension": ".py",
      "mimetype": "text/x-python",
      "name": "python",
      "nbconvert_exporter": "python",
      "pygments_lexer": "ipython3",
      "version": "3.7.4"
    },
    "colab": {
      "name": "Multi_Linear_Regression (toyoto).ipynb",
      "provenance": [],
      "collapsed_sections": [
        "O3PGs3wxDpJ-"
      ],
      "include_colab_link": true
    }
  },
  "nbformat": 4,
  "nbformat_minor": 0
}