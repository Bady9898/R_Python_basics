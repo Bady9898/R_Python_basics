{
  "nbformat": 4,
  "nbformat_minor": 0,
  "metadata": {
    "colab": {
      "name": "pandas_intro.ipynb",
      "provenance": [],
      "collapsed_sections": [],
      "authorship_tag": "ABX9TyNXzL17TDIjOuBlD7LPlDfc",
      "include_colab_link": true
    },
    "kernelspec": {
      "name": "python3",
      "display_name": "Python 3"
    },
    "language_info": {
      "name": "python"
    }
  },
  "cells": [
    {
      "cell_type": "markdown",
      "metadata": {
        "id": "view-in-github",
        "colab_type": "text"
      },
      "source": [
        "<a href=\"https://colab.research.google.com/github/Bady9898/R_codes/blob/main/pandas_intro.ipynb\" target=\"_parent\"><img src=\"https://colab.research.google.com/assets/colab-badge.svg\" alt=\"Open In Colab\"/></a>"
      ]
    },
    {
      "cell_type": "code",
      "metadata": {
        "id": "rukbWn55bKkP"
      },
      "source": [
        "#import python library\n",
        "import pandas as pd\n",
        "import numpy as np\n",
        "#import matplotlib as mpl\n",
        "#import seaborn as sns"
      ],
      "execution_count": null,
      "outputs": []
    },
    {
      "cell_type": "code",
      "metadata": {
        "id": "jCT3OxHGdZw-"
      },
      "source": [
        "#Read csv files\n",
        "df=pd.read_csv(\"/content/Salaries.csv\")"
      ],
      "execution_count": null,
      "outputs": []
    },
    {
      "cell_type": "code",
      "metadata": {
        "id": "wNym5dSCmAab"
      },
      "source": [
        "df"
      ],
      "execution_count": null,
      "outputs": []
    },
    {
      "cell_type": "code",
      "metadata": {
        "id": "ckXQio5UoQc0"
      },
      "source": [
        "df.head"
      ],
      "execution_count": null,
      "outputs": []
    },
    {
      "cell_type": "code",
      "metadata": {
        "id": "fmym8thImHR4"
      },
      "source": [
        "df_first10=df.head(10)"
      ],
      "execution_count": null,
      "outputs": []
    },
    {
      "cell_type": "code",
      "metadata": {
        "id": "PDI03xItpv05"
      },
      "source": [
        "df_first20= df.head(20)"
      ],
      "execution_count": null,
      "outputs": []
    },
    {
      "cell_type": "code",
      "metadata": {
        "id": "dhXYDNezpzgH"
      },
      "source": [
        "df_first30=df.head(30)"
      ],
      "execution_count": null,
      "outputs": []
    },
    {
      "cell_type": "code",
      "metadata": {
        "id": "yJL8y-aSp3Gm"
      },
      "source": [
        "df_first50=df.head(50)"
      ],
      "execution_count": null,
      "outputs": []
    },
    {
      "cell_type": "code",
      "metadata": {
        "id": "DRENAz5Kp6qt"
      },
      "source": [
        "df_first50"
      ],
      "execution_count": null,
      "outputs": []
    },
    {
      "cell_type": "markdown",
      "metadata": {
        "id": "Rv4Dqchosr5G"
      },
      "source": [
        "dataframe attributes"
      ]
    },
    {
      "cell_type": "code",
      "metadata": {
        "id": "yMuODQ59rAIU"
      },
      "source": [
        "df.columns"
      ],
      "execution_count": null,
      "outputs": []
    },
    {
      "cell_type": "code",
      "metadata": {
        "id": "8ME7MmqkwMix"
      },
      "source": [
        "df.shape"
      ],
      "execution_count": null,
      "outputs": []
    },
    {
      "cell_type": "code",
      "metadata": {
        "id": "-nEqj7FFs1X3"
      },
      "source": [
        "#1 Number of rows\n",
        "df.shape[0]"
      ],
      "execution_count": null,
      "outputs": []
    },
    {
      "cell_type": "code",
      "metadata": {
        "id": "PERuv-Qguhbi"
      },
      "source": [
        "#2 No. of columns\n",
        "#df.shape[1] OR\n",
        "len(df.columns)"
      ],
      "execution_count": null,
      "outputs": []
    },
    {
      "cell_type": "code",
      "metadata": {
        "id": "uQb2QzOru1ky"
      },
      "source": [
        "#3 Column names\n",
        "for col in df.columns:\n",
        "    print(col)"
      ],
      "execution_count": null,
      "outputs": []
    },
    {
      "cell_type": "code",
      "metadata": {
        "id": "NaVeLFdXvVA5"
      },
      "source": [
        "#4\n",
        "df.dtypes"
      ],
      "execution_count": null,
      "outputs": []
    },
    {
      "cell_type": "code",
      "metadata": {
        "id": "hbd6iUYgs2pE"
      },
      "source": [
        "df.ndim"
      ],
      "execution_count": null,
      "outputs": []
    },
    {
      "cell_type": "code",
      "metadata": {
        "id": "4BHQgK-ys4O0"
      },
      "source": [
        "df.axes"
      ],
      "execution_count": null,
      "outputs": []
    },
    {
      "cell_type": "code",
      "metadata": {
        "id": "2e5TBxmbs5vO"
      },
      "source": [
        "df.values"
      ],
      "execution_count": null,
      "outputs": []
    },
    {
      "cell_type": "code",
      "metadata": {
        "id": "7c6oFO2_s7_X"
      },
      "source": [
        "df.size"
      ],
      "execution_count": null,
      "outputs": []
    },
    {
      "cell_type": "markdown",
      "metadata": {
        "id": "D7N_NMQpxzeo"
      },
      "source": [
        "Data Frame Models\n"
      ]
    },
    {
      "cell_type": "code",
      "metadata": {
        "id": "VHicYKwBx1tn"
      },
      "source": [
        "df.describe()"
      ],
      "execution_count": null,
      "outputs": []
    },
    {
      "cell_type": "code",
      "metadata": {
        "id": "N7cvX1gnx6n_"
      },
      "source": [
        "df.mean()"
      ],
      "execution_count": null,
      "outputs": []
    },
    {
      "cell_type": "code",
      "metadata": {
        "id": "MZ4we8p7yA1e"
      },
      "source": [
        "df.median()"
      ],
      "execution_count": null,
      "outputs": []
    },
    {
      "cell_type": "code",
      "metadata": {
        "id": "koCqw5TLyCRR"
      },
      "source": [
        "df.count()"
      ],
      "execution_count": null,
      "outputs": []
    },
    {
      "cell_type": "code",
      "metadata": {
        "id": "OdtGhBPXyP_N"
      },
      "source": [
        "#1\n",
        "df.describe(include=[np.number])"
      ],
      "execution_count": null,
      "outputs": []
    },
    {
      "cell_type": "code",
      "metadata": {
        "id": "l7hOgh8ey-ip"
      },
      "source": [
        "#2 df.apply(pd.DataFrame.describe, axis=1)\n",
        "df.std"
      ],
      "execution_count": null,
      "outputs": []
    },
    {
      "cell_type": "code",
      "metadata": {
        "id": "ObbvWgWOzghX"
      },
      "source": [
        "#3 + chaining of the methods\n",
        "df_50= df.head(50).mean()\n",
        "df_50"
      ],
      "execution_count": null,
      "outputs": []
    },
    {
      "cell_type": "code",
      "metadata": {
        "id": "-HZqr6461ntV"
      },
      "source": [
        "#df['salary'] OR\n",
        "#df.salary OR\n",
        "df[['salary']]"
      ],
      "execution_count": null,
      "outputs": []
    },
    {
      "cell_type": "code",
      "metadata": {
        "id": "9cM1mV412BxF"
      },
      "source": [
        "df.phd"
      ],
      "execution_count": null,
      "outputs": []
    },
    {
      "cell_type": "code",
      "metadata": {
        "id": "IujATNgD30xV"
      },
      "source": [
        "#1\n",
        "df.phd.describe()"
      ],
      "execution_count": null,
      "outputs": []
    },
    {
      "cell_type": "code",
      "metadata": {
        "id": "xBtwgPMI4M2h"
      },
      "source": [
        "#2\n",
        "df.phd.count()"
      ],
      "execution_count": null,
      "outputs": []
    },
    {
      "cell_type": "code",
      "metadata": {
        "id": "bVUeHPN94UZ4"
      },
      "source": [
        "#3\n",
        "df.phd.mean()"
      ],
      "execution_count": null,
      "outputs": []
    },
    {
      "cell_type": "code",
      "metadata": {
        "id": "37IutVVW4aOH"
      },
      "source": [
        "group=df.groupby(['rank'])"
      ],
      "execution_count": null,
      "outputs": []
    },
    {
      "cell_type": "code",
      "metadata": {
        "id": "dRKYSHQJ6XI3"
      },
      "source": [
        "group"
      ],
      "execution_count": null,
      "outputs": []
    },
    {
      "cell_type": "code",
      "metadata": {
        "id": "iSDiUBgp6aoc"
      },
      "source": [
        "df.groupby('rank')[['salary']].mean()"
      ],
      "execution_count": null,
      "outputs": []
    },
    {
      "cell_type": "code",
      "metadata": {
        "id": "KnAbUzJV6tPc"
      },
      "source": [
        "df.groupby('sex')[['salary']].mean()"
      ],
      "execution_count": null,
      "outputs": []
    },
    {
      "cell_type": "code",
      "metadata": {
        "id": "SA-PhqXq6wTi"
      },
      "source": [
        "#Filter in python\n",
        "#print rows where salary is more than 120k\n",
        "df['salary']>120000\n",
        "#df[df['salary']>120000] only true values will be shown"
      ],
      "execution_count": null,
      "outputs": []
    },
    {
      "cell_type": "code",
      "metadata": {
        "id": "FoK0uTeF7l9-"
      },
      "source": [
        "df[df['discipline']==\"B\"]"
      ],
      "execution_count": null,
      "outputs": []
    },
    {
      "cell_type": "code",
      "metadata": {
        "id": "_yagv8DZ8s9k"
      },
      "source": [
        "df1=df[df['rank']== \"Prof\"] "
      ],
      "execution_count": null,
      "outputs": []
    },
    {
      "cell_type": "code",
      "metadata": {
        "id": "vGYSfvEA9e-X"
      },
      "source": [
        "df1"
      ],
      "execution_count": null,
      "outputs": []
    },
    {
      "cell_type": "code",
      "metadata": {
        "id": "MHVEH9nO-KyH"
      },
      "source": [
        "df1[df1['discipline']==\"A\"]"
      ],
      "execution_count": null,
      "outputs": []
    },
    {
      "cell_type": "code",
      "metadata": {
        "id": "XcwHaQZO-UOu"
      },
      "source": [
        "df[(df['discipline']==\"B\")& (df['rank']=='Prof')]"
      ],
      "execution_count": null,
      "outputs": []
    },
    {
      "cell_type": "code",
      "metadata": {
        "id": "KIjJfIbe_YYO"
      },
      "source": [
        "#1 df.iloc[0:4 ]\n",
        "#2 df.iloc[ 2:7 ]\n",
        "#3 df.iloc[ : ,-3]\n",
        "#4 df.iloc[1:6, 0:3]"
      ],
      "execution_count": null,
      "outputs": []
    },
    {
      "cell_type": "code",
      "metadata": {
        "id": "bOoSBzRACIgB"
      },
      "source": [
        "df[df[\"phd\", \"salary\"]].agg(['min','mean','max'])"
      ],
      "execution_count": null,
      "outputs": []
    },
    {
      "cell_type": "code",
      "metadata": {
        "id": "pqstq4GkGgUP"
      },
      "source": [
        "df"
      ],
      "execution_count": null,
      "outputs": []
    },
    {
      "cell_type": "code",
      "metadata": {
        "id": "A1fylFtvHK8W"
      },
      "source": [
        ""
      ],
      "execution_count": null,
      "outputs": []
    }
  ]
}